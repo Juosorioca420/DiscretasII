{
  "nbformat": 4,
  "nbformat_minor": 0,
  "metadata": {
    "colab": {
      "provenance": [],
      "authorship_tag": "ABX9TyMS+3gYyhbuvFmXcg1Y0ePS",
      "include_colab_link": true
    },
    "kernelspec": {
      "name": "python3",
      "display_name": "Python 3"
    },
    "language_info": {
      "name": "python"
    }
  },
  "cells": [
    {
      "cell_type": "markdown",
      "metadata": {
        "id": "view-in-github",
        "colab_type": "text"
      },
      "source": [
        "<a href=\"https://colab.research.google.com/github/Juosorioca420/DiscretasII/blob/main/Totient_de_Euler.ipynb\" target=\"_parent\"><img src=\"https://colab.research.google.com/assets/colab-badge.svg\" alt=\"Open In Colab\"/></a>"
      ]
    },
    {
      "cell_type": "markdown",
      "source": [
        "\n",
        "### Totient de Euler\n",
        "\n",
        "---"
      ],
      "metadata": {
        "id": "QXhMgR12p2uZ"
      }
    },
    {
      "cell_type": "markdown",
      "source": [
        "Es posible determinar el numero de generadores del Grupo ciclico $\\mathbb{Z}_n$ determinando la cantidad de primos relativos de $n$ o aplicando el Totiem de Euler $\\phi(n)$.\n",
        "\n",
        "Se prentende averiguar el incremento de rendimiento entre dos algoritmos:\n",
        "\n",
        "\n",
        "1.   Determinar los coprimos de un $n$ por fuerza bruta.\n",
        "2.   Aplicando propiedades de la *Función Phi de Euler*.\n",
        "> *   $\\phi(1)$ = 1 \n",
        "  *   $\\phi(p^a)$ = $p^a - p^{a-1}$ = $p^{a}\\left(1 -\\frac{1}{p}\\right)$\n",
        "  * $mcd(m,n) = 1 \\:\\: ⟶$ $\\:\\:\\phi(m\\cdot n)$ = $\\phi(m)$$\\phi(n)$\n",
        "\n",
        "\n",
        "\n",
        "\n",
        "\n",
        "\n",
        "\n",
        "\n",
        "\n"
      ],
      "metadata": {
        "id": "SsK3W6RwmV9Z"
      }
    },
    {
      "cell_type": "code",
      "source": [
        "import math as m\n",
        "import time as t"
      ],
      "metadata": {
        "id": "NYY3bX1Rs_ha"
      },
      "execution_count": 2,
      "outputs": []
    },
    {
      "cell_type": "code",
      "execution_count": 3,
      "metadata": {
        "colab": {
          "base_uri": "https://localhost:8080/"
        },
        "id": "fjsrV9gni7JN",
        "outputId": "5ddd2c08-08d9-431b-ffd0-bc68c5063b26"
      },
      "outputs": [
        {
          "output_type": "stream",
          "name": "stdout",
          "text": [
            "False False True\n",
            "11\n"
          ]
        }
      ],
      "source": [
        "#Funciones Auxiliares\n",
        "def primo(p):\n",
        "  for i in range( 2, int(m.sqrt(p)) + 1 ):\n",
        "    if p%i == 0:\n",
        "      return False\n",
        "  return True\n",
        "\n",
        "def mcd(x, y):\n",
        "  return x if y == 0 else mcd(y, (x % y))\n",
        "\n",
        "print(primo(8),primo(15),primo(23))\n",
        "print( mcd(121, 132) )"
      ]
    },
    {
      "cell_type": "markdown",
      "source": [
        "**1. Fuerza Bruta**"
      ],
      "metadata": {
        "id": "kdIwlx9Yttc6"
      }
    },
    {
      "cell_type": "code",
      "source": [
        "def fuerza(n):\n",
        "  coprimos = []\n",
        "  for i in range(1, n):\n",
        "    if mcd(i, n) == 1: coprimos.append(i)\n",
        "\n",
        "  return len(coprimos)"
      ],
      "metadata": {
        "id": "OpTs-CRqtvM4"
      },
      "execution_count": 45,
      "outputs": []
    },
    {
      "cell_type": "markdown",
      "source": [
        "**2. Phi de Euler**\n",
        "\n",
        "Aprovechando la propiedad $iii$, es posible descomponer nuestro $n$ es factores primos, tales que, $n = p_1^ap_2^b \\cdots p_s^r$ y $mcd(p_x,p_y) = 1$, de modo que\n",
        "\n",
        "\\begin{align*}\n",
        " \\phi(n) =& \\: \\phi(p_1^a) \\phi(p_2^b) \\cdots \\phi(p_s^r)\\\\\n",
        " & p_1^{a}\\left(1 -\\frac{1}{p_1}\\right) \\cdots p_s^{r}\\left(1 -\\frac{1}{p_s}\\right), \\text{ Dado $ii$ para primos.}\\\\\n",
        " & p_1^{a} \\cdots p_s^{r} \\left(1 -\\frac{1}{p_1}\\right) \\cdots \\left(1 -\\frac{1}{p_s}\\right)\\\\\n",
        " & n \\prod_1^s \\left(1 -\\frac{1}{p_i}\\right)\n",
        "\\end{align*}\n",
        "De modo que necesitamos unicamente saber los factores primos, siquiera sus exponentes. "
      ],
      "metadata": {
        "id": "TxJbRHMpt-nR"
      }
    },
    {
      "cell_type": "code",
      "source": [
        "def euler(n):\n",
        "  # i\n",
        "  if n == 1 : return 1\n",
        "\n",
        "  # ii - iii\n",
        "  factores = []; val = n\n",
        "  for i in range( 2, int( m.sqrt(n) ) + 1 ): #Hallar los factores primos de n.\n",
        "    while n % i == 0:\n",
        "        factores.append(i)\n",
        "        n /= i\n",
        "    if n == 1 : break\n",
        "  if n > 1: factores.append(n)\n",
        "\n",
        "  for i in set(factores): #Hallar la Productoria; sin duplicados, no importa el exponente.\n",
        "    val *= ( 1 - (1 / i) )\n",
        "\n",
        "  return int(val)"
      ],
      "metadata": {
        "id": "2GP1g9iOuFcY"
      },
      "execution_count": 41,
      "outputs": []
    },
    {
      "cell_type": "markdown",
      "source": [
        "*Implementación*"
      ],
      "metadata": {
        "id": "5RgmyYMzzdea"
      }
    },
    {
      "cell_type": "code",
      "source": [
        "def main(n):\n",
        "  print(f'n = {n}\\n')\n",
        "\n",
        "\n",
        "  #if primo(n): return (n-1)\n",
        "\n",
        "\n",
        "  print(f'Fuerza:')\n",
        "  start = t.time()\n",
        "  val = fuerza(n)\n",
        "  stop = t.time(); t1 = (stop - start) \n",
        "  print( f'|G| = {val} \\nEjecución = {t1}s \\n' )\n",
        "\n",
        "\n",
        "  print(f'Euler:')\n",
        "  start = t.time()\n",
        "  val = euler(n)\n",
        "  stop = t.time(); t2 = (stop - start) \n",
        "  print( f'|G| = {val} \\nEjecución = {t2}s \\n' )\n",
        "\n",
        "\n",
        "  print( f'Ganancía = {(t1/t2 * 100) - 100}%')\n",
        "\n",
        "main(23597112)"
      ],
      "metadata": {
        "id": "FxTZ_25szeFp",
        "colab": {
          "base_uri": "https://localhost:8080/"
        },
        "outputId": "6a267abe-16ab-4306-b3cc-878200cba535"
      },
      "execution_count": 47,
      "outputs": [
        {
          "output_type": "stream",
          "name": "stdout",
          "text": [
            "n = 23597112\n",
            "\n",
            "Fuerza:\n",
            "|G| = 6074880 \n",
            "Ejecución = 62.78382396697998s \n",
            "\n",
            "Euler:\n",
            "|G| = 6074880 \n",
            "Ejecución = 6.604194641113281e-05s \n",
            "\n",
            "Ganancía = 95066486.28158845%\n"
          ]
        }
      ]
    }
  ]
}