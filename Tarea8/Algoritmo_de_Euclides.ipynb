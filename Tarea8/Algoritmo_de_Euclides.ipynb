{
  "nbformat": 4,
  "nbformat_minor": 0,
  "metadata": {
    "colab": {
      "provenance": [],
      "authorship_tag": "ABX9TyPdF++ytFAFd/JuTm+9tkHZ",
      "include_colab_link": true
    },
    "kernelspec": {
      "name": "python3",
      "display_name": "Python 3"
    },
    "language_info": {
      "name": "python"
    }
  },
  "cells": [
    {
      "cell_type": "markdown",
      "metadata": {
        "id": "view-in-github",
        "colab_type": "text"
      },
      "source": [
        "<a href=\"https://colab.research.google.com/github/Juosorioca420/DiscretasII/blob/main/Tarea8/Algoritmo_de_Euclides.ipynb\" target=\"_parent\"><img src=\"https://colab.research.google.com/assets/colab-badge.svg\" alt=\"Open In Colab\"/></a>"
      ]
    },
    {
      "cell_type": "markdown",
      "source": [
        "# Algoritmo de Euclides\n",
        "\n",
        "---\n",
        "\n",
        "Para implementar un programa que halle el minimo comun divisor entre dos numeros, se siguiendo el algoritmo de Euclides para hallar dicho $m.c.d$. \n",
        "\n",
        "Sirva como ejemplo $mcd(207, 60)$, en escencia se desea determinar el residuo de la division $207/60$ para luego dividir el divisor de la anterior operación ($60$) por el resuido obtenido y así iterativamente hasta lograr una división exacta:\n",
        "\\begin{align*}\n",
        "& 207 = (3) \\; \\overline{60} + \\underline{27}\\\\\n",
        "& \\overline{60} = (2) \\; \\underline{27} + 6\\\\\n",
        "& \\underline{27} = (4) \\; 6 + 3\\\\\n",
        "& 6 = (2) \\; \\boxed{3} + 0\\\\\n",
        "\\end{align*}\n",
        "El $m.c.d$ sera el divisor de la ultima operación, cuando la división se hace exacta. Así pues $mcd(207, 60) = 3$."
      ],
      "metadata": {
        "id": "SJlgFUlCUiwA"
      }
    },
    {
      "cell_type": "code",
      "execution_count": 18,
      "metadata": {
        "id": "d-8OZngCUQzz"
      },
      "outputs": [],
      "source": [
        "def euclides(n,m):\n",
        "  if m > n: return euclides(m, n) # Ahorra un paso, pues en dado caso el divisor seria el mismo residuo\n",
        "  \n",
        "  r = n % m #Residuo\n",
        "  print(f'{n} = ({n//m}) {m} + {r}')\n",
        "  # Nueva operación, dividiendo el divisor previo (m) por el residuo obtendio (r)\n",
        "  # Repetir proceso bajo recursión hasta que el residuo sea 0 (división exacta)\n",
        "  return m if (r == 0) else euclides(m, r) "
      ]
    },
    {
      "cell_type": "code",
      "source": [
        "def main(n, m):\n",
        "  print(f'Para ({n}, {m}):')\n",
        "\n",
        "  mcd = euclides(n,m)\n",
        "\n",
        "  print(f'\\nm.c.d = {mcd} \\n\\n')\n",
        "\n",
        "\n",
        "main(60, 207)\n",
        "main(209, 78)\n",
        "main(49, 231)"
      ],
      "metadata": {
        "colab": {
          "base_uri": "https://localhost:8080/"
        },
        "id": "7LnP9MAfezl3",
        "outputId": "bfdcbd61-0fce-4738-b573-ddc7edf5a9b6"
      },
      "execution_count": 19,
      "outputs": [
        {
          "output_type": "stream",
          "name": "stdout",
          "text": [
            "Para (60, 207):\n",
            "207 = (3) 60 + 27\n",
            "60 = (2) 27 + 6\n",
            "27 = (4) 6 + 3\n",
            "6 = (2) 3 + 0\n",
            "\n",
            "m.c.d = 3 \n",
            "\n",
            "\n",
            "Para (209, 78):\n",
            "209 = (2) 78 + 53\n",
            "78 = (1) 53 + 25\n",
            "53 = (2) 25 + 3\n",
            "25 = (8) 3 + 1\n",
            "3 = (3) 1 + 0\n",
            "\n",
            "m.c.d = 1 \n",
            "\n",
            "\n",
            "Para (49, 231):\n",
            "231 = (4) 49 + 35\n",
            "49 = (1) 35 + 14\n",
            "35 = (2) 14 + 7\n",
            "14 = (2) 7 + 0\n",
            "\n",
            "m.c.d = 7 \n",
            "\n",
            "\n"
          ]
        }
      ]
    }
  ]
}