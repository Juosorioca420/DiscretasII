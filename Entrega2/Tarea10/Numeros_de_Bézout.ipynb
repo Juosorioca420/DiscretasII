{
  "nbformat": 4,
  "nbformat_minor": 0,
  "metadata": {
    "colab": {
      "provenance": [],
      "authorship_tag": "ABX9TyOUTBG1xDgd4JqTzxXm0ozc",
      "include_colab_link": true
    },
    "kernelspec": {
      "name": "python3",
      "display_name": "Python 3"
    },
    "language_info": {
      "name": "python"
    }
  },
  "cells": [
    {
      "cell_type": "markdown",
      "metadata": {
        "id": "view-in-github",
        "colab_type": "text"
      },
      "source": [
        "<a href=\"https://colab.research.google.com/github/Juosorioca420/DiscretasII/blob/main/Entrega2/Tarea10/Numeros_de_B%C3%A9zout.ipynb\" target=\"_parent\"><img src=\"https://colab.research.google.com/assets/colab-badge.svg\" alt=\"Open In Colab\"/></a>"
      ]
    },
    {
      "cell_type": "markdown",
      "source": [
        "##**Numeros de Bézout**\n",
        "\n",
        "---\n",
        "Sabiendo que los coeficientes producidos por la descomposición de Euclides de dos enteros $a$ y $b$ para hallar $d = \\text{m.c.d}(a,b)$ comparten el mismo $d$:\n",
        "\n",
        "En el algoritmo de Bezout, donde $d = av + bw$, $v$ y $w$ se actualizan a los valores de $y_1$ y $y_2$ (coeficientes previos), mientras que $y_1$ y $y_2$ se actualizan para ser los coeficientes correspondientes de la combinación lineal de la división entera actual, es decir, $v - q \\cdot y_1$ y $w - q \\cdot y_2$ respectivamente.\n",
        "\n",
        "\n",
        "Por ejemplo, $a = 30$ y $b = 21$ con $d = 3$.\n",
        "\n",
        "\n",
        "1.\n",
        "\\begin{align*}\n",
        "\\quad 30 &= 1(21) + 9 \\\\\n",
        "\\end{align*}\n",
        "\n",
        "Ahora, para actualizar los coeficientes de Bezout, establecemos $v = 1$, $w = 0$, $y1 = 0$, $y2 = 1$ y usamos la fórmula en la línea 11:\n",
        "\n",
        "\\begin{align*}\n",
        "v, w, y1, y2 &= y1, y2, v - q * y1, w - q * y2 \\\\\n",
        "&= 0, 1, 1, -1\n",
        "\\end{align*}\n",
        "\n",
        "Entonces, en la primera iteración, tenemos que $21(1) + 9(-1) = 3$, lo que indica que los coeficientes de la combinación lineal para el MCD de 30 y 21 son $x = 1$ e $y = -1$.\n",
        "\n",
        "\n",
        "2.\n",
        "\\begin{align*}\n",
        " \\quad 21 &= 2(9) + 3 \\\\\n",
        "v, w, y1, y2 &= 1, -1, -2, 3 \\\\\n",
        "9(-2) + 3(3) &= 3\n",
        "\\end{align*}\n",
        "\n",
        "\n",
        "3.\n",
        "\n",
        "\n",
        "\\begin{align*}\n",
        " \\quad 9 &= 3(3) + 0 \\\\\n",
        "v, w, y1, y2 &= -2, 3, 7, -10 \\\\\n",
        "\\end{align*}\n",
        "\n",
        "Dado que $b = 0$ en esta iteración ya se ha obtenido la menor combinación lineal posible, de la que todas las demás son múltiplo. Así pues:\n",
        "\n",
        "$MCD(30, 21) = 3 = (-2)30 + (3)21$\n"
      ],
      "metadata": {
        "id": "lvEyornVMOyi"
      }
    },
    {
      "cell_type": "code",
      "source": [
        "def bezout(a, b):\n",
        "  neg = (a<0 and b<0)\n",
        "\n",
        "  # Inicializamos los coeficientes de Bezout para los casos base y los auxiliares\n",
        "  v, w = 1, 0 # d = av + bw  ->   b=0; d = a(1) + 0\n",
        "  v1, w1 = 0, 1 # intercambiar e iniciar en caso base para proxima iteración en caso de existir\n",
        "  while b != 0:\n",
        "    q = a//b # División de a y b para obtener el cociente\n",
        "    \n",
        "    v, w,   v1, w1  =  v1, w1,   v - q*v1, w - q*w1 # Actualizar los coeficientes\n",
        "\n",
        "    a, b = b, a%b  # Actualizar a y b\n",
        "\n",
        "  return (v,w) if (not neg) else (-v,-w)"
      ],
      "metadata": {
        "id": "jwdWdhqhgCl-"
      },
      "execution_count": null,
      "outputs": []
    },
    {
      "cell_type": "code",
      "source": [
        "def main(a,b):\n",
        "  if abs(a) < abs(b): a,b = b,a\n",
        "  v,w = bezout(a,b)\n",
        "  d = a*v + b*w\n",
        "\n",
        "  print( f'Para ({a}, {b}):\\nd = {d} = {a}({v}) + {b}({w})\\n' )\n",
        "\n",
        "main(60,207)\n",
        "main(-112, -91)\n",
        "main(-105, 39)\n",
        "main(30, 21)"
      ],
      "metadata": {
        "colab": {
          "base_uri": "https://localhost:8080/"
        },
        "id": "p4xkSXu8q8RG",
        "outputId": "6ab72f37-6391-4b27-e188-15099eb876d4"
      },
      "execution_count": 38,
      "outputs": [
        {
          "output_type": "stream",
          "name": "stdout",
          "text": [
            "Para (207, 60):\n",
            "d = 3 = 207(9) + 60(-31)\n",
            "\n",
            "Para (-112, -91):\n",
            "d = 7 = -112(4) + -91(-5)\n",
            "\n",
            "Para (-105, 39):\n",
            "d = 3 = -105(-3) + 39(-8)\n",
            "\n",
            "Para (30, 21):\n",
            "d = 3 = 30(-2) + 21(3)\n",
            "\n"
          ]
        }
      ]
    }
  ]
}