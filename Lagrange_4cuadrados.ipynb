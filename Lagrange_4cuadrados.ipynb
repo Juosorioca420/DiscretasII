{
  "nbformat": 4,
  "nbformat_minor": 0,
  "metadata": {
    "colab": {
      "provenance": [],
      "authorship_tag": "ABX9TyOnVYR7dtpXZgIOVp5GoWcL",
      "include_colab_link": true
    },
    "kernelspec": {
      "name": "python3",
      "display_name": "Python 3"
    },
    "language_info": {
      "name": "python"
    }
  },
  "cells": [
    {
      "cell_type": "markdown",
      "metadata": {
        "id": "view-in-github",
        "colab_type": "text"
      },
      "source": [
        "<a href=\"https://colab.research.google.com/github/Juosorioca420/DiscretasII/blob/main/Lagrange_4cuadrados.ipynb\" target=\"_parent\"><img src=\"https://colab.research.google.com/assets/colab-badge.svg\" alt=\"Open In Colab\"/></a>"
      ]
    },
    {
      "cell_type": "markdown",
      "source": [
        "### El teorema de los cuatro cuadrados de Lagrange\n",
        "\n",
        "---\n",
        "\n",
        "Se desea descomponer un entero $n$ como una suma de cuadrados. El teorema de los cuatro cuadrados de Lagrange nos indica que esta tarea deberia ser posible con no más de 4 numeros distintos para un $n$ cualquiera, es decir, $n = a^2 + b^2 + c^2 + d^2$."
      ],
      "metadata": {
        "id": "77zMPngtDqUA"
      }
    },
    {
      "cell_type": "code",
      "source": [
        "import time as t"
      ],
      "metadata": {
        "id": "VXskowqIxX6v"
      },
      "execution_count": 1,
      "outputs": []
    },
    {
      "cell_type": "code",
      "execution_count": null,
      "metadata": {
        "id": "_uJlARBcC3ek"
      },
      "outputs": [],
      "source": [
        "def cuadros(n):\n",
        "  if n == 0: return [0]\n",
        "\n",
        "  cuadros = []\n",
        "  while n != 0:\n",
        "    c = int( n**0.5 ); cuadros.append(c)\n",
        "    n -= c**2\n",
        "\n",
        "  return cuadros"
      ]
    },
    {
      "cell_type": "code",
      "source": [
        "def main(n = 105428529635412):\n",
        "    start = t.time()\n",
        "    lst = cuadros(n)\n",
        "    stop = t.time()\n",
        "\n",
        "    return print( f'n = {n} \\nBases: {lst} \\nTiempo = {stop - start}s' )\n",
        "\n",
        "main()"
      ],
      "metadata": {
        "colab": {
          "base_uri": "https://localhost:8080/"
        },
        "id": "qizhvp6xx2Lf",
        "outputId": "16dac289-c1b0-4a3d-f9cc-26b980b5ed49"
      },
      "execution_count": 6,
      "outputs": [
        {
          "output_type": "stream",
          "name": "stdout",
          "text": [
            "Bases: [10267839, 3450, 54, 8, 3, 1, 1] \n",
            "Tiempo = 8.368492126464844e-05\n"
          ]
        }
      ]
    },
    {
      "cell_type": "markdown",
      "source": [
        "---\n",
        "\n",
        "---"
      ],
      "metadata": {
        "id": "ej1-NACxEH8H"
      }
    },
    {
      "cell_type": "code",
      "source": [
        "start = t.time()\n",
        "a = cuadros(5)\n",
        "b = cuadros(18)\n",
        "c = cuadros(348)\n",
        "d = cuadros(8764)\n",
        "stop = t.time()\n",
        "\n",
        "print(a,b,c,d, sep = '\\n' )\n",
        "print(f'Tiempo = {stop - start}s')"
      ],
      "metadata": {
        "id": "jDksLeSbFM2A",
        "colab": {
          "base_uri": "https://localhost:8080/"
        },
        "outputId": "c63c5ea5-c794-45fd-c976-2ade0bf07a1d"
      },
      "execution_count": 14,
      "outputs": [
        {
          "output_type": "stream",
          "name": "stdout",
          "text": [
            "[2, 1]\n",
            "[4, 1, 1]\n",
            "[18, 4, 2, 2]\n",
            "[93, 10, 3, 2, 1, 1]\n",
            "Tiempo = 0.00018143653869628906s\n"
          ]
        }
      ]
    }
  ]
}