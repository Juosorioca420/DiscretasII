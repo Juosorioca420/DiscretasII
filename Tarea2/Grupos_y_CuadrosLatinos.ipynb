{
  "nbformat": 4,
  "nbformat_minor": 0,
  "metadata": {
    "colab": {
      "provenance": [],
      "authorship_tag": "ABX9TyN/TiCOJ5HwbRSt8g8gp++u",
      "include_colab_link": true
    },
    "kernelspec": {
      "name": "python3",
      "display_name": "Python 3"
    },
    "language_info": {
      "name": "python"
    }
  },
  "cells": [
    {
      "cell_type": "markdown",
      "metadata": {
        "id": "view-in-github",
        "colab_type": "text"
      },
      "source": [
        "<a href=\"https://colab.research.google.com/github/Juosorioca420/DiscretasII/blob/main/Grupos_y_CuadrosLatinos.ipynb\" target=\"_parent\"><img src=\"https://colab.research.google.com/assets/colab-badge.svg\" alt=\"Open In Colab\"/></a>"
      ]
    },
    {
      "cell_type": "markdown",
      "source": [
        "## Asignación 01\n",
        "\n",
        "Determinar si una tabla de Cayley representa un cuadro latino y/o un Grupo.\n",
        "\n",
        "---\n",
        "Es importante hacer la distinción este entre estos dos conceptos, pues todo Grupo, bajo su representación de cuadro Cayley en un cuadro latino, pero no todo cuadro latino es Grupo.\n",
        "\n",
        "Bajo esta aclaración, se presenta la necesidad de identificar cuando (G, $\\cdot$), con G un conjunto y $\\cdot$ una operacion binaria, es un grupo. Dada las propiedades que estas estructuras algebraicas garantizan, es posible estudiar una rica variedad de fenomenos, como las organizaciones sociales o moleculares, los grafos en matematicas entre muchos más problemas que por su complejidad resulta necesario abstraerlos en estructuras que se puedan estudiar bajo propiedades y teoremas generales y descomponer en subestructuras computacionalmente más economicas y sencillas de entender; estructuras como lo son los Grupos."
      ],
      "metadata": {
        "id": "XTpS17__fhx-"
      }
    },
    {
      "cell_type": "code",
      "source": [
        "import numpy as np"
      ],
      "metadata": {
        "id": "12DhIYhwp4Uk"
      },
      "execution_count": 7,
      "outputs": []
    },
    {
      "cell_type": "markdown",
      "source": [
        "Primeramente se etermina si un arreglo es cuadro latino.\n",
        "\n",
        "> Vemos que no haya duplicados dentro de los *n* elementos de las filas y que todos los elementos de las filas esten contenidos en un mismo grupo $C$.\n",
        "\n",
        "\n",
        "\\begin{align*}\n",
        "(m, C) \\longrightarrow bool\n",
        "\\end{align*}\n",
        "\n",
        "* m : matriz de Cayley\n",
        "* C : Conjunto "
      ],
      "metadata": {
        "id": "qvHVLxWuveDt"
      }
    },
    {
      "cell_type": "code",
      "execution_count": 68,
      "metadata": {
        "id": "0CW5LQu6e3n2"
      },
      "outputs": [],
      "source": [
        "def latino( m, C ):\n",
        "  n = len(m) # matriz nxn\n",
        "\n",
        "  for fil in m:\n",
        "    dup = set(fil) #elimina duplicados\n",
        "    if len(dup) < n :\n",
        "      return False\n",
        "    \n",
        "    for elem in fil:\n",
        "      if elem not in C:\n",
        "        return False\n",
        "\n",
        "  return True"
      ]
    },
    {
      "cell_type": "markdown",
      "source": [
        "Luego se determina si un arreglo es grupo.\n",
        "\n",
        "\n",
        "> Se debe saber si la operacion en cerrada, asociativa, hay neutro e inverso.\n",
        "\n",
        "> Cada requerimiento sera una funcion auxiliar de grupo, que finalmente solo\n",
        "  evaluara que se cumpla cada una de estas. \n",
        "\n",
        "\\begin{align*}\n",
        "(m, C) \\longrightarrow bool\n",
        "\\end{align*}\n",
        "\n",
        "* m : matriz de Cayley\n",
        "* C : Conjunto "
      ],
      "metadata": {
        "id": "iVNTu-gzweox"
      }
    },
    {
      "cell_type": "code",
      "source": [
        "def grupo( m, C ):\n",
        "\n",
        "  def cerrada(m): #Veamos que cada elemento de m pertenezca a C, el conjunto originario\n",
        "    for fil in m:\n",
        "      for elem in fil:\n",
        "        if elem not in C:\n",
        "          return False\n",
        "    return True\n",
        "\n",
        "  def neutro(m, C): #El elemento neutro genera una fila y columna iguales a C en la posición i.\n",
        "    n = len(m)\n",
        "    t = m.transpose()\n",
        "    e = [] #lista para almacenar el elemento neutro\n",
        "\n",
        "    for i in range(n):\n",
        "      fil, col = m[i], t[i]\n",
        "      if ( np.array_equal( fil, C ) ) and ( np.array_equal( col, C ) ):\n",
        "        e.append( C[i] )\n",
        "\n",
        "    if len(e) == 1: #Asegurar que e sea unico\n",
        "      print( f'Elemento Neutro: { e[0] }\\n' )\n",
        "      return True, e[0]\n",
        "    else:\n",
        "      return False, None\n",
        "\n",
        "  def inverso(m, C, e):\n",
        "    #Debe existir una aparicion unica de e en cada fila y columna, así unicamente el elemento i (fila) es inverso de j (columna) y viceversa.\n",
        "    n = len(m); t = m.transpose()\n",
        "    for i in range(n):\n",
        "      fil = [ x for x in m[i] if x == e ]\n",
        "      col = [ x for x in t[i] if x == e ]\n",
        "\n",
        "      if ( len(fil) + len(col) != 2 ):\n",
        "        return False\n",
        "\n",
        "    return True\n",
        "\n",
        "  def asociativa( m, C ): #Se analiza la igualdad de las posibles operaciones en un loop triple [O(n^3)]\n",
        "    n = len(m)\n",
        "    for i in range(n-2):\n",
        "     for j in range(i+1, n-1):\n",
        "        for k in range(j+1, n):  #Todas las posibles permutaciones de indices\n",
        "          parentesis = np.where( C == m[j][k] )[0][0]\n",
        "          izquierda = m[i][parentesis] # i * (j*k)\n",
        "\n",
        "          parentesis = np.where( C == m[i][j] )[0][0]\n",
        "          derecha = m[parentesis][k] # (i*j) * k\n",
        "\n",
        "          if izquierda != derecha:\n",
        "            return False\n",
        "    return True\n",
        "\n",
        "  if cerrada(m):\n",
        "    flag, e = neutro(m, C)\n",
        "    if flag:\n",
        "      if inverso(m, C, e):\n",
        "        if asociativa(m, C):\n",
        "          return True \n",
        "          #Los if anidados ahorran un poco de tiempo al programa.\n",
        "          #En caso que una condicion falte, inmediatamente ya no es Grupo.\n",
        "  return False"
      ],
      "metadata": {
        "id": "YG6gTEIss_We"
      },
      "execution_count": 60,
      "outputs": []
    },
    {
      "cell_type": "markdown",
      "source": [
        "Por ultimo se integran las funciones en un unico metodo, asegurandose de correr primero la funcion de $\\verb|grupo()|$, pues en caso de ser verdadera, podemos decir que la tabla tambien es cuadro latino."
      ],
      "metadata": {
        "id": "8Eco3wYonMRI"
      }
    },
    {
      "cell_type": "code",
      "source": [
        "def main(m , C):\n",
        "  g = grupo(m, C)\n",
        "  if g:\n",
        "    return print(f'La tabla representa un Grupo y es Cuadro latino.')\n",
        "  else:\n",
        "    l = latino(m, C)\n",
        "    if l:\n",
        "      return print(f'La tabla no es un Grupo y es Cuadro latino.')\n",
        "    else:\n",
        "      return print(f'No es Grupo ni Cuadro latino.')"
      ],
      "metadata": {
        "id": "PChKO3Q5nhmt"
      },
      "execution_count": 66,
      "outputs": []
    },
    {
      "cell_type": "markdown",
      "source": [
        "El codigo se pone a prueba con el Grupo trabajado en clase:"
      ],
      "metadata": {
        "id": "dk3yWVfuqunQ"
      }
    },
    {
      "cell_type": "code",
      "source": [
        "C = np.array(['g1','g2','g3','g4','g5','g6','g7','g8'])\n",
        "m = np.array([\n",
        "                 ['g1','g2','g3','g4','g5','g6','g7','g8'],\n",
        "                ['g2','g3','g4','g1','g7','g8','g6','g5'],\n",
        "                ['g3','g4','g1','g2','g6','g5','g8','g7'],\n",
        "               ['g4','g1','g2','g3','g8','g7','g5','g6'],\n",
        "              ['g5','g8','g6','g7','g1','g3','g4','g2'],\n",
        "               ['g6','g7','g5','g8','g3','g1','g2','g4'],\n",
        "              ['g7','g5','g8','g6','g2','g4','g1','g3'],\n",
        "              ['g8','g6','g7','g5','g4','g2','g3','g1']\n",
        "                ]) #Tabla puesta a prueba en clase.\n",
        "print(m)\n",
        "\n",
        "main(m, C)"
      ],
      "metadata": {
        "colab": {
          "base_uri": "https://localhost:8080/"
        },
        "id": "nZVyFdFyom7m",
        "outputId": "1f363878-134a-48d2-8b52-30c5861d9a29"
      },
      "execution_count": 70,
      "outputs": [
        {
          "output_type": "stream",
          "name": "stdout",
          "text": [
            "[['g1' 'g2' 'g3' 'g4' 'g5' 'g6' 'g7' 'g8']\n",
            " ['g2' 'g3' 'g4' 'g1' 'g7' 'g8' 'g6' 'g5']\n",
            " ['g3' 'g4' 'g1' 'g2' 'g6' 'g5' 'g8' 'g7']\n",
            " ['g4' 'g1' 'g2' 'g3' 'g8' 'g7' 'g5' 'g6']\n",
            " ['g5' 'g8' 'g6' 'g7' 'g1' 'g3' 'g4' 'g2']\n",
            " ['g6' 'g7' 'g5' 'g8' 'g3' 'g1' 'g2' 'g4']\n",
            " ['g7' 'g5' 'g8' 'g6' 'g2' 'g4' 'g1' 'g3']\n",
            " ['g8' 'g6' 'g7' 'g5' 'g4' 'g2' 'g3' 'g1']]\n",
            "Elemento Neutro: g1\n",
            "\n",
            "La tabla representa un Grupo y es Cuadro latino.\n"
          ]
        }
      ]
    },
    {
      "cell_type": "markdown",
      "source": [
        "\n",
        "---\n",
        "---\n",
        "Pruebas\n"
      ],
      "metadata": {
        "id": "yS5Ff_y2-kVt"
      }
    },
    {
      "cell_type": "code",
      "source": [
        "a = np.array([0, 2, 3, 3, 5, 9, 16, 17, 9])\n",
        "b = np.array([0, 2, 3, 3, 5, 9, 16, 9, 17])\n",
        "\n",
        "print(a == b, np.array_equal(a,b))"
      ],
      "metadata": {
        "colab": {
          "base_uri": "https://localhost:8080/"
        },
        "id": "cDwmMuibilSq",
        "outputId": "17e55773-0be1-4242-9073-b533bad8e9c1"
      },
      "execution_count": 22,
      "outputs": [
        {
          "output_type": "stream",
          "name": "stdout",
          "text": [
            "[ True  True  True  True  True  True  True False False] False\n"
          ]
        }
      ]
    },
    {
      "cell_type": "code",
      "source": [
        "a = np.matrix([[9, 3, 9], [9, 10, 11], [11, 17, 11]])\n",
        "b = a.transpose()\n",
        "\n",
        "print(a)\n",
        "print()\n",
        "print(b)\n",
        "\n",
        "a = np.array([0, 2, 3, 3, 5, 9, 16, 17, 9])\n",
        "c = a[ a == 2 ]; d = a[ np.where( a <= 5 ) ]; e = np.where( a == 5 ); f = a[4]\n",
        "print(c, d, e[0], f) # where me devuelve el indice en una tupla de 2 elementos"
      ],
      "metadata": {
        "colab": {
          "base_uri": "https://localhost:8080/"
        },
        "id": "lxdq6av58oVn",
        "outputId": "48038404-6cc9-4f95-d0dc-155cda2f0af9"
      },
      "execution_count": 54,
      "outputs": [
        {
          "output_type": "stream",
          "name": "stdout",
          "text": [
            "[[ 9  3  9]\n",
            " [ 9 10 11]\n",
            " [11 17 11]]\n",
            "\n",
            "[[ 9  9 11]\n",
            " [ 3 10 17]\n",
            " [ 9 11 11]]\n",
            "[2] [0 2 3 3 5] [4] 5\n"
          ]
        }
      ]
    }
  ]
}
