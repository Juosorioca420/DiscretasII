{
  "nbformat": 4,
  "nbformat_minor": 0,
  "metadata": {
    "colab": {
      "provenance": [],
      "authorship_tag": "ABX9TyOZCAcl8B+1AiafjWujKZZV",
      "include_colab_link": true
    },
    "kernelspec": {
      "name": "python3",
      "display_name": "Python 3"
    },
    "language_info": {
      "name": "python"
    }
  },
  "cells": [
    {
      "cell_type": "markdown",
      "metadata": {
        "id": "view-in-github",
        "colab_type": "text"
      },
      "source": [
        "<a href=\"https://colab.research.google.com/github/Juosorioca420/DiscretasII/blob/main/Entrega2%20/Tarea13/Div4.ipynb\" target=\"_parent\"><img src=\"https://colab.research.google.com/assets/colab-badge.svg\" alt=\"Open In Colab\"/></a>"
      ]
    },
    {
      "cell_type": "markdown",
      "source": [
        "**Regla de Divisibilidad de 4**\n",
        "\n",
        "---"
      ],
      "metadata": {
        "id": "VqwraR-d7Luy"
      }
    },
    {
      "cell_type": "markdown",
      "source": [
        "\n",
        "\n",
        "> *Un número es divisible por 4 si los últimos dos dígitos forman un número divisible por 4.*\n",
        "\n",
        "$1234\\boxed{56}$\n",
        "\\begin{align*}\n",
        " & 100000 + 20000 + 3000 + 400 + 50 + 6 \\pmod{4}\\\\\n",
        " & 0 + 0 + (2800 + 200) + 0 + (40+10) + 6 \\pmod{4}\\\\\n",
        " & (0 + 0) + (0+2) + 6 \\pmod{4}\\\\\n",
        " & 8 \\pmod{4}\\\\\n",
        " & 0\n",
        "\\end{align*}\n",
        "\n",
        "\n",
        "\\begin{align*}\n",
        " & 56 \\pmod{4}\\\\\n",
        " & 40 + 16 \\pmod{4}\\\\\n",
        " & 0 + 16 \\pmod{4}\\\\\n",
        " & 0\n",
        "\\end{align*}\n"
      ],
      "metadata": {
        "id": "lvqwl6mp7cMS"
      }
    },
    {
      "cell_type": "code",
      "execution_count": 7,
      "metadata": {
        "id": "lCnYAZ3P7Jgf"
      },
      "outputs": [],
      "source": [
        "def div4(n):\n",
        "  ultimos = n % 100  # Obtenemos los dos últimos dígitos del número\n",
        "  r = ultimos % 4\n",
        "  \n",
        "  if r != 0: return f'Propiedad invalida.'\n",
        "  else: return f'{ultimos} / 4 = {ultimos//4}\\n{n} / 4 = {n//4}'"
      ]
    },
    {
      "cell_type": "code",
      "source": [
        "def main(n):\n",
        "  print( f'{n}:\\n{ div4(n) }\\n' )\n",
        "\n",
        "main(123456)\n",
        "main(12743284387416)\n",
        "main(127432843874168980912)\n",
        "main(1274328438741689809129088904)"
      ],
      "metadata": {
        "colab": {
          "base_uri": "https://localhost:8080/"
        },
        "id": "o-HOWnob-usa",
        "outputId": "834ad85b-2a14-4cf2-aa69-17fd49c8c872"
      },
      "execution_count": 8,
      "outputs": [
        {
          "output_type": "stream",
          "name": "stdout",
          "text": [
            "123456:\n",
            "56 / 4 = 14\n",
            "123456 / 4 = 30864\n",
            "\n",
            "12743284387416:\n",
            "16 / 4 = 4\n",
            "12743284387416 / 4 = 3185821096854\n",
            "\n",
            "127432843874168980912:\n",
            "12 / 4 = 3\n",
            "127432843874168980912 / 4 = 31858210968542245228\n",
            "\n",
            "1274328438741689809129088904:\n",
            "4 / 4 = 1\n",
            "1274328438741689809129088904 / 4 = 318582109685422452282272226\n",
            "\n"
          ]
        }
      ]
    }
  ]
}