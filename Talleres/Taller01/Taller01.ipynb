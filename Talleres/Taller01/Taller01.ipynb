{
  "nbformat": 4,
  "nbformat_minor": 0,
  "metadata": {
    "colab": {
      "provenance": [],
      "collapsed_sections": [
        "Zu-_B5aA37tv",
        "I601daQJ-nZf",
        "mYU11XxJC-BG",
        "jLyyEjGwI1JL",
        "Guq5Vl1VP3Ou",
        "pSj7ZBDTWU5d",
        "QbHS8rBg6dYF",
        "GYaYGP6p860s",
        "jIBGNLHS__o6",
        "RoNQ7_YsADYa",
        "nr5Yxk4xGsDx",
        "mzLcx6KdP4fu",
        "OMdUxPr4RgWb",
        "RZpLhWd7eZlu",
        "3PJ_TCF3Yfdf",
        "BgOte_jD1RCa",
        "gkdXmY0V86No"
      ],
      "include_colab_link": true
    },
    "kernelspec": {
      "name": "python3",
      "display_name": "Python 3"
    },
    "language_info": {
      "name": "python"
    }
  },
  "cells": [
    {
      "cell_type": "markdown",
      "metadata": {
        "id": "view-in-github",
        "colab_type": "text"
      },
      "source": [
        "<a href=\"https://colab.research.google.com/github/Juosorioca420/DiscretasII/blob/main/Talleres/Taller01/Taller01.ipynb\" target=\"_parent\"><img src=\"https://colab.research.google.com/assets/colab-badge.svg\" alt=\"Open In Colab\"/></a>"
      ]
    },
    {
      "cell_type": "markdown",
      "source": [
        "## Taller 01\n",
        "**Teoría de números**\n",
        "\n",
        "---\n"
      ],
      "metadata": {
        "id": "Zu-_B5aA37tv"
      }
    },
    {
      "cell_type": "markdown",
      "source": [
        "####1. ¿Existen enteros $a$ y $b$ tal que $a + b = 544$ y cuyo máximo común divisor es 11?."
      ],
      "metadata": {
        "id": "I601daQJ-nZf"
      }
    },
    {
      "cell_type": "markdown",
      "source": [
        "Supongamos existen $a,b \\in \\mathbb{Z}$ cuyo máximo común divisor es $11$ y cuya suma es igual a $544$. Entonces:\n",
        "\\begin{align*}\n",
        "& 544 = 11n + 11m \\quad, \\: n,m \\in \\mathbb{Z} \\\\\n",
        "& \\frac{544}{11} = (n+m) \\quad, \\: (n+m) \\equiv k \\in \\mathbb{Z} \\\\\n",
        "& \\frac{544}{11} = k \\\\\n",
        "\\end{align*}\n",
        "\n",
        "Donde $\\frac{544}{11} = 49.4545 \\notin \\mathbb{Z}$, para $ k \\in \\mathbb{Z}$. Lo que es un absurdo.\n",
        "\n",
        "De modo que, por reducción al absurdo, NO existen enteros $a$ y $b$ tal que $a+b=544$ y su máximo común divisor sea 11."
      ],
      "metadata": {
        "id": "sTB4pUxJPxGn"
      }
    },
    {
      "cell_type": "markdown",
      "source": [
        "####2. Encuentre una regla de divisibilidad para 8 y para 16.\n",
        "\n",
        "\n",
        "  \n",
        "\n",
        "\n",
        "\n",
        "\n",
        "\n",
        "  "
      ],
      "metadata": {
        "id": "mYU11XxJC-BG"
      }
    },
    {
      "cell_type": "markdown",
      "source": [
        "Podemos escribir un número entero en términos de sus dígitos como:\n",
        "\\begin{align*}\n",
        "a_n10^n + \\cdots + a_110^1+a_0\n",
        "\\end{align*}\n",
        "\n",
        "> **Regla de divisibilidad para 8:** Un número es divisible por 8 si y solo  si los tres dígitos de menor peso del número forman un múltiplo de 8.\n",
        "* $5678326\\boxed{992}$\n",
        "\n",
        "  \\begin{align*}\n",
        "  &9(100) + 9(10) + 2 \\quad\\%  8\\\\\n",
        "  &4 + 2 + 2 \\quad\\% 8\\\\\n",
        "  &8 \\quad\\% 8\\\\\n",
        "  &0\n",
        "  \\end{align*}\n",
        "\n",
        "> **Regla de divisibilidad para 16:** Un número es divisible por 16 si y solo si los cuatro dígitos más a la derecha del número forman un múltiplo de 16.\n",
        "* $987642\\boxed{9984}$\n",
        "\n",
        "  \\begin{align*}\n",
        "  &9(1000) + 9(100) + 8(10) + 4 \\quad\\%  16\\\\\n",
        "  &1000 + 100 + 0 + 4 \\quad\\% 16\\\\\n",
        "  &40 + 4 + 4 \\quad\\% 16\\\\\n",
        "  &8 + 8  \\quad\\% 16\\\\\n",
        "  &16  \\quad\\% 16\\\\\n",
        "  &0\n",
        "  \\end{align*}"
      ],
      "metadata": {
        "id": "62kQLNYfPve5"
      }
    },
    {
      "cell_type": "markdown",
      "source": [
        "####3. Si $p$ es un número primo y $a^2 \\equiv b^2 (\\mod p)$, pruebe que $a \\equiv \\pm b$."
      ],
      "metadata": {
        "id": "jLyyEjGwI1JL"
      }
    },
    {
      "cell_type": "markdown",
      "source": [
        "Sean $a,b \\in \\mathbb{Z}$ cualesquiera, tales que $a^2 \\equiv b^2 \\pmod{p}$ con $p$ número primo, entonces $p \\mid (a^2 - b^2) = (a-b)(a+b)$.\n",
        "\n",
        "Bajo el **Lema de Euler**: Si $n$ es un número entero y divide a un producto $ab$ y es coprimo con uno de los factores, entonces $n$ divide al otro factor.\n",
        "\n",
        "En el primer caso se tiene $ (a - b)$ es coprimo con $ p $, puesto que $p$ es primo por hipotesis. A partir del *lema de euler*, se tiene que $p \\mid (a+b)$; que por definición de congruencia implica que $a ≡ -b \\pmod{p}$.\n",
        "\n",
        "Analogamente, para $p \\mid (a-b)$, pues $p$ tambien es coprimo a $(a+b)$, entonces $a ≡ b \\pmod{p}$.\n",
        "\n",
        "Así pues $a \\equiv \\pm b (\\mod p)$ si $a^2 \\equiv b^2 \\pmod{p}$.\n",
        "\n",
        "$\\blacksquare$"
      ],
      "metadata": {
        "id": "OVYUWrEKPsIJ"
      }
    },
    {
      "cell_type": "markdown",
      "source": [
        "####4. Encuentre el resto cuando $19^{19}$ es dividido por 5."
      ],
      "metadata": {
        "id": "Guq5Vl1VP3Ou"
      }
    },
    {
      "cell_type": "markdown",
      "source": [
        "Por pequeño teorema de Fermat,  $19^{4} \\mod 5 = 1$, entonces:\n",
        "\n",
        "\\begin{align*}\n",
        "& (19^4)^4 \\cdot 19^3 \\:\\%5 \\\\\n",
        "& 1 \\cdot (15 + 4)^3 \\:\\%5 \\\\\n",
        "& (0 + 4)^3 \\:\\%5 \\\\\n",
        "& 4^2 \\cdot 4 \\:\\%5 \\\\\n",
        "& 16 \\cdot 4 \\:\\%5 \\\\\n",
        "& 1 \\cdot 4 \\:\\%5 \\\\\n",
        "& 4\n",
        "\\end{align*}\n",
        "\n",
        "$ 19^{19}  \\mod 5 = 4 $"
      ],
      "metadata": {
        "id": "FbYur4VbQF3O"
      }
    },
    {
      "cell_type": "code",
      "source": [
        "print( (19**19) % 5)"
      ],
      "metadata": {
        "colab": {
          "base_uri": "https://localhost:8080/"
        },
        "id": "8TWAvLMYmQeQ",
        "outputId": "b696d66c-1c22-44fa-8a66-9c8de2f90ca9"
      },
      "execution_count": 3,
      "outputs": [
        {
          "output_type": "stream",
          "name": "stdout",
          "text": [
            "4\n"
          ]
        }
      ]
    },
    {
      "cell_type": "markdown",
      "source": [
        "#### 5. Encuentre los últimos dos dígitos de $7^{7^{7}}$."
      ],
      "metadata": {
        "id": "pSj7ZBDTWU5d"
      }
    },
    {
      "cell_type": "markdown",
      "source": [
        "Para hallar el ultimo digito de un entero $n$ basta con hallar $n \\pmod{10}$, similarmente para los 2 ultimos digitos hace falta determinar $n \\pmod{100}$. Tomemos $n = 7^{7^7}$.\n",
        "\n",
        "Sabemos que $7^7$ es un producto consecutivo de un numero impar, de modo que $7^7 = 2k  + 1$, con $k = 411771$, entonces:\n",
        "\n",
        "\\begin{align*}\n",
        "& 7^{7^7} \\:\\% 100\\\\\n",
        "& 7^{2k +1} \\:\\% 100\\\\\n",
        "& (7^{2})^k \\cdot 7 \\:\\% 100\n",
        "\\end{align*}\n",
        "\n",
        "\n",
        "Donde $7^2 = 49$, siendo todas las potencias pares de $49$ terminadas en $01$ y todas las potencias impares de $49$ terminadas en $49$, es decir:\n",
        "\n",
        "\\begin{align*}\n",
        "& 49^{2ℓ} \\:\\:\\% 100 \\quad = 1\\\\ \n",
        "& 49^{2ℓ+1}\\:\\:\\% 100 \\quad = 49\n",
        "\\end{align*}\n",
        "\n",
        "Siendo $k$ numero impar.\n",
        "\n",
        "\\begin{align*}\n",
        "& 49 \\cdot 7 \\:\\% 100\\\\ \n",
        "& 343\\:\\% 100\\\\ \n",
        "& 43\n",
        "\\end{align*}\n",
        "\n",
        "De modo que los ultimos digitos de $n = 7^{7^7}$ son 43.\n"
      ],
      "metadata": {
        "id": "OR7dwIpdWaXc"
      }
    },
    {
      "cell_type": "code",
      "source": [
        "print( ( 7**(7**7) ) % 100 )"
      ],
      "metadata": {
        "colab": {
          "base_uri": "https://localhost:8080/"
        },
        "id": "mzZrmyaHQW9l",
        "outputId": "3897d831-5c97-4491-886b-30450ceff27d"
      },
      "execution_count": null,
      "outputs": [
        {
          "output_type": "stream",
          "name": "stdout",
          "text": [
            "43\n"
          ]
        }
      ]
    },
    {
      "cell_type": "markdown",
      "source": [
        "#### 6. Encuentre $\\phi(n)$ para n=35,  n=100, n=51200."
      ],
      "metadata": {
        "id": "QbHS8rBg6dYF"
      }
    },
    {
      "cell_type": "markdown",
      "source": [
        "Se implementa la función **Totient de Euler** bajo los criterios:\n",
        "\n",
        "> Propiedades del Totient de Euler. \n",
        "  *   $\\phi(1)$ = 1 \n",
        "  *   $\\phi(p^a)$ = $p^a - p^{a-1}$ = $p^{a}\\left(1 -\\frac{1}{p}\\right)$\n",
        "  * $mcd(m,n) = 1 \\:\\: ⟶$ $\\:\\:\\phi(m\\cdot n)$ = $\\phi(m)$$\\phi(n)$\n",
        "\n",
        "Donde, aprovechando la propiedad $iii$, es posible descomponer nuestro $n$ es factores primos, tales que, $n = p_1^ap_2^b \\cdots p_s^r$ y $mcd(p_x,p_y) = 1$, de modo que\n",
        "\n",
        "\\begin{align*}\n",
        " \\phi(n) =& \\: \\phi(p_1^a) \\phi(p_2^b) \\cdots \\phi(p_s^r)\\\\\n",
        " & p_1^{a}\\left(1 -\\frac{1}{p_1}\\right) \\cdots p_s^{r}\\left(1 -\\frac{1}{p_s}\\right), \\text{ Dado $ii$ para primos.}\\\\\n",
        " & p_1^{a} \\cdots p_s^{r} \\left(1 -\\frac{1}{p_1}\\right) \\cdots \\left(1 -\\frac{1}{p_s}\\right)\\\\\n",
        " & n \\prod_1^s \\left(1 -\\frac{1}{p_i}\\right)\n",
        "\\end{align*}"
      ],
      "metadata": {
        "id": "YY7-IlBS6sj8"
      }
    },
    {
      "cell_type": "code",
      "source": [
        "#Funciones Auxiliares\n",
        "def primo(p):\n",
        "  for i in range( 2, int(p**0.5) + 1 ):\n",
        "    if p%i == 0:\n",
        "      return False\n",
        "  return True\n",
        "\n",
        "def mcd(x, y):\n",
        "  return x if y == 0 else mcd(y, (x % y))\n",
        "\n",
        "\n",
        "# Totient de Euler\n",
        "def euler(n):\n",
        "  # i\n",
        "  if n == 1 : return 1\n",
        "\n",
        "  # ii (caso especial para primos)\n",
        "  if primo(n): return (n-1)\n",
        "\n",
        "  # ii - iii\n",
        "  factores = []; val = n\n",
        "  for i in range( 2, int( n**0.5 ) + 1 ): #Hallar los factores primos de n.\n",
        "    while n % i == 0:\n",
        "        factores.append(i)\n",
        "        n /= i\n",
        "    if n == 1 : break\n",
        "  if n > 1: factores.append(n)\n",
        "\n",
        "  for i in set(factores): #Hallar la Productoria; sin duplicados, no importa el exponente.\n",
        "    val *= ( 1 - (1 / i) )\n",
        "\n",
        "  return int(val)"
      ],
      "metadata": {
        "id": "C3kRHS_h6j20"
      },
      "execution_count": null,
      "outputs": []
    },
    {
      "cell_type": "code",
      "source": [
        "def main(n):\n",
        "  val = euler(n)\n",
        "  print( f'n = {n}\\nϕ(n) = {val}\\n' )\n",
        "\n",
        "main(35); main(100); main(51200)"
      ],
      "metadata": {
        "colab": {
          "base_uri": "https://localhost:8080/"
        },
        "id": "7XM6Gz437Xvd",
        "outputId": "c53271b3-21e2-45d8-8f7b-ec6e733b914b"
      },
      "execution_count": null,
      "outputs": [
        {
          "output_type": "stream",
          "name": "stdout",
          "text": [
            "n = 35\n",
            "ϕ(n) = 24\n",
            "\n",
            "n = 100\n",
            "ϕ(n) = 40\n",
            "\n",
            "n = 51200\n",
            "ϕ(n) = 20480\n",
            "\n"
          ]
        }
      ]
    },
    {
      "cell_type": "markdown",
      "source": [
        "#### 7. Usted le pregunta a un robot que quiere comer. El responde “48.879”. Sabiendo que el robot piensa en hexadecimal pero habla en decimal, que le debería dar de comer?"
      ],
      "metadata": {
        "id": "GYaYGP6p860s"
      }
    },
    {
      "cell_type": "markdown",
      "source": [
        "Para realizar la conversión de base 10 a base 16, podemos aplicar el algoritmo de la división, iterando hasta que el cociente obtenido de la operación sea tal que $q < 16$. Luego se toman de 'abajo' hacia 'arriba' partiendo desde este cociente, todos los restos obtenidos de las operaciónes previas, considerando que\n",
        "\n",
        "\n",
        "> 10 = A\n",
        "\n",
        ">11 = B\n",
        "\n",
        ">12 = C\n",
        "\n",
        ">13 = D\n",
        "\n",
        ">14 = E\n",
        "\n",
        ">15 = F\n",
        "\n",
        "\n"
      ],
      "metadata": {
        "id": "3puNMSEj9ANT"
      }
    },
    {
      "cell_type": "code",
      "source": [
        "def dec_hex(n):\n",
        "  res = []\n",
        "  q : int; r : int\n",
        "  while n >= 16 :\n",
        "    # Division entera para el cociente, 16 mod(16) para hallar el residuo\n",
        "    q, r = n//16, n % 16 \n",
        "    res.insert(0, r); n = q\n",
        "  res.insert(0, q)\n",
        "\n",
        "  hex = ''; vals = { 10 : 'A', 11: 'B', 12: 'C', 13: 'D', 14: 'E', 15: 'F'}\n",
        "  for num in res:\n",
        "    if num in vals.keys(): hex += vals[num]\n",
        "    else: hex += str(num) \n",
        "\n",
        "  return hex"
      ],
      "metadata": {
        "id": "a99_tUN93D0W"
      },
      "execution_count": null,
      "outputs": []
    },
    {
      "cell_type": "code",
      "source": [
        "def main(n):\n",
        "  hex = dec_hex(n)\n",
        "  print(f'({n})_10 = ({hex})_16')\n",
        "\n",
        "main(48879)"
      ],
      "metadata": {
        "colab": {
          "base_uri": "https://localhost:8080/"
        },
        "id": "7z8S6oTD4i11",
        "outputId": "7561f355-285b-4cbb-eb82-5a006dec742a"
      },
      "execution_count": null,
      "outputs": [
        {
          "output_type": "stream",
          "name": "stdout",
          "text": [
            "(48879)_10 = (BEEF)_16\n"
          ]
        }
      ]
    },
    {
      "cell_type": "markdown",
      "source": [
        "De modo que el robot penso en **BEEF**, es decir, le deberia dar carne para comer."
      ],
      "metadata": {
        "id": "MTnNwMNR6x90"
      }
    },
    {
      "cell_type": "markdown",
      "source": [
        "#### 8. ¿65.314.638.792 es divisible por 24?."
      ],
      "metadata": {
        "id": "jIBGNLHS__o6"
      }
    },
    {
      "cell_type": "markdown",
      "source": [
        "Para determinar si $65.314.638.792$ es divisible por $24$, se utiliza la regla de divisibilidad por $24$.\n",
        "\n",
        "Esta regla establece que un número es divisible por $24$ si y solo si es divisible por $8$ y $3$.\n",
        "\n",
        "\n",
        "\n",
        "> $8 \\mid 65.314.638.792$\n",
        "  \\begin{align*}\n",
        "    & 792 \\:\\% 8 \\\\\n",
        "    & 700+90+2 \\:\\% 8 \\\\\n",
        "    & 60 + 10 + 2 \\:\\% 8 \\\\\n",
        "    & 4 + 2 + 2 \\:\\% 8 \\\\\n",
        "    & 8 \\:\\% 8 \\\\\n",
        "    & 0\n",
        "  \\end{align*}\n",
        "\n",
        "  > $3 \\mid 65.314.638.792$\n",
        "  \\begin{align*}\n",
        "    & 6+5+3+1+4+6+3+8+7+9+2 \\:\\% 3 \\\\\n",
        "    & 54 \\:\\% 3 \\\\\n",
        "    & 21 + 33 \\:\\% 3 \\\\\n",
        "    & 0 + 0 \\:\\% 3 \\\\\n",
        "    & 0 \n",
        "  \\end{align*}\n",
        "\n",
        "Por lo tanto, como $65.314.638.792$ es divisible por $8$ y por $3$, entonces es divisible por $24$."
      ],
      "metadata": {
        "id": "wDc0z9DjAHX5"
      }
    },
    {
      "cell_type": "markdown",
      "source": [
        "#### 9. Pruebe que $n^p - n$ es divisible por $p$ si $p$ es un número primo."
      ],
      "metadata": {
        "id": "RoNQ7_YsADYa"
      }
    },
    {
      "cell_type": "markdown",
      "source": [
        "Sea $n \\in \\mathbb{Z}$ cualquiera y $p$ un número primo. Se tienen 2 posibles casos, $ p \\mid n$ y $ p \\nmid n$.\n",
        "\n",
        "\n",
        "\n",
        "* Sea $ p \\mid n$.\n",
        "\n",
        "  Entonces p tambien divide cualquier escalar de $n$, incluyendo $n^p$, de modo que:\n",
        "  \\begin{align*}\n",
        "    &n^p - n = p (\\overline{k} - k)\\\\\n",
        "    &n^p - n = p ℓ \\\\\n",
        "    & p \\mid (n^p - n)\n",
        "  \\end{align*}\n",
        "\n",
        "* Sea $ p \\nmid n \\longrightarrow $ $p$, $n$ coprimos.\n",
        "\n",
        "  \\begin{align*}\n",
        "   & (n^p - n) = (n\\cdot n^{p−1} - n)\n",
        "  \\end{align*}\n",
        "\n",
        "  Por el pequeño teorema de Fermat, $n^{p-1} \\equiv 1 \\pmod{p}$, de modo que:\n",
        "\n",
        "\n",
        "  \\begin{align*}\n",
        "    &n(n^{p-1}) - n \\pmod{p} \\\\\n",
        "    &n(1) - n \\pmod{p}\\\\\n",
        "    & 0 \\pmod{p}\\\\\n",
        "  \\end{align*}\n",
        "\n",
        "  \\begin{align*}\n",
        "  ⟹ (n^p - n) \\equiv 0 \\pmod{p}\n",
        "  \\end{align*}\n",
        "\n",
        "  Lo que implica por definición de congruencia y divisibilidad $p \\mid (n^p - n)$.\n",
        "\n",
        "\n",
        "Por lo tanto, en todo caso, $p \\mid (n^p - n)$ si $p$ es primo.\n",
        "\n",
        "$\\blacksquare$\n",
        "\n"
      ],
      "metadata": {
        "id": "2qY35mLzAH6J"
      }
    },
    {
      "cell_type": "markdown",
      "source": [
        "#### 10. Encuentre los enteros $x$ y $y$ tal que $314x+159y=1$."
      ],
      "metadata": {
        "id": "nr5Yxk4xGsDx"
      }
    },
    {
      "cell_type": "markdown",
      "source": [
        "Tengase $a = 314, \\:\\: b = 159\\:$, donde:"
      ],
      "metadata": {
        "id": "VxCrb5nlGv33"
      }
    },
    {
      "cell_type": "code",
      "source": [
        "a = 314; b = 159\n",
        "print(f'mcd(a,b) = {mcd(a,b)}') "
      ],
      "metadata": {
        "colab": {
          "base_uri": "https://localhost:8080/"
        },
        "id": "lp9IZO7KN9jr",
        "outputId": "e6899173-ef91-461d-fdbc-03b95dc9b44a"
      },
      "execution_count": null,
      "outputs": [
        {
          "output_type": "stream",
          "name": "stdout",
          "text": [
            "mcd(a,b) = 1\n"
          ]
        }
      ]
    },
    {
      "cell_type": "markdown",
      "source": [
        "De modo que $x$ y $y$ son equivalentes a los números de Bézout, tales que, $mcd(a,b) = 1 = ax + by$.\n",
        "\n",
        "De modo que es posible aplicar el Algoritmo para los números de Bézout (Euler Extendido) para hallar dichos coeficientes. Así pues:"
      ],
      "metadata": {
        "id": "1bmar_WyORqF"
      }
    },
    {
      "cell_type": "code",
      "source": [
        "def bezout(a, b):\n",
        "  neg = (a<0 and b<0)\n",
        "\n",
        "  v, w = 1, 0 # d = av + bw  ->   b=0; d = a(1) + 0\n",
        "  v1, w1 = 0, 1 # intercambiar e iniciar en caso base para proxima iteración en caso de existir\n",
        "  while b != 0:\n",
        "    q = a//b # División de a y b para obtener el cociente\n",
        "    v, w,   v1, w1  =  v1, w1,   v - q*v1, w - q*w1 # Actualizar los coeficientes\n",
        "    a, b = b, a%b  # Actualizar a y b\n",
        "\n",
        "  return (v,w) if (not neg) else (-v,-w)"
      ],
      "metadata": {
        "id": "LpXfx_6WO_so"
      },
      "execution_count": null,
      "outputs": []
    },
    {
      "cell_type": "code",
      "source": [
        "def main(a, b):\n",
        "  if abs(a) < abs(b): a,b = b,a\n",
        "  v,w = bezout(a,b)\n",
        "  d = a*v + b*w\n",
        "\n",
        "  print( f'Para ({a}, {b}):\\nd = {d} = {a}({v}) + {b}({w})\\n' )\n",
        "  \n",
        "main(a,b)"
      ],
      "metadata": {
        "colab": {
          "base_uri": "https://localhost:8080/"
        },
        "id": "gF62Mc1lPLlo",
        "outputId": "6a1fd87b-8207-4e86-e016-22130161b8b2"
      },
      "execution_count": null,
      "outputs": [
        {
          "output_type": "stream",
          "name": "stdout",
          "text": [
            "Para (314, 159):\n",
            "d = 1 = 314(-40) + 159(79)\n",
            "\n"
          ]
        }
      ]
    },
    {
      "cell_type": "markdown",
      "source": [
        "De modo que.\n",
        "\n",
        "\n",
        "> $x = -40$\n",
        "\n",
        "> $y = 79$\n",
        "\n"
      ],
      "metadata": {
        "id": "6y26B-NfPizU"
      }
    },
    {
      "cell_type": "markdown",
      "source": [
        "#### 11. Pruebe o controvierta la siguiente afirmación si $a^2 \\equiv b^2 (\\mod m)$ entonces $a \\equiv b (\\mod m)$ o $a \\equiv -b (\\mod m)$"
      ],
      "metadata": {
        "id": "mzLcx6KdP4fu"
      }
    },
    {
      "cell_type": "markdown",
      "source": [
        "Sea el caso $a = 2, \\:\\:b = 8,\\:\\:m = 15 \\in \\mathbb{Z}$; $\\:\\: a^2 = 4$ y $b^2 = 64$.\n",
        "\n",
        "Tenemos $4 \\equiv 64 \\pmod{15}$, de modo que $a^2 \\equiv b^2 (\\mod m)$.\n",
        "\n",
        "Ahora bien, no es cierto que $2 \\equiv 8 \\pmod{15}$ o $2 \\equiv -8 \\pmod{15}$. Para $a$, en ambos casos es congruentes a $2$. Para $b$, es congruente a $8$ y $7$ respectivamente.\n",
        "\n",
        "Por lo tanto, por contraejemplo, la afirmación es falsa.\n",
        "\n",
        "Así pues, que $a^2 \\equiv b^2 \\pmod{m} \\Rightarrow a \\equiv b \\pmod{m} \\:\\: \\text{ o }\\:\\: a \\equiv -b \\pmod{m}$ no se cumple en todos los casos.\n",
        "\n",
        "$\\blacksquare$"
      ],
      "metadata": {
        "id": "YWmkC9jqQAi9"
      }
    },
    {
      "cell_type": "markdown",
      "source": [
        "#### 12. Encuentre todos los enteros positivos tales que $1066 \\equiv 1776 (\\mod m)$."
      ],
      "metadata": {
        "id": "OMdUxPr4RgWb"
      }
    },
    {
      "cell_type": "markdown",
      "source": [
        "Aplicando las propiedades de la Aritmetica Modular, podemos transformar la expresión inicial:\n",
        "\n",
        "\\begin{align*}\n",
        "  &1066 \\equiv 1776 \\pmod{m}\\\\\n",
        "  &1066 - 1066 \\equiv 1776 - 1066 \\pmod{m}\\\\\n",
        "  &0 \\equiv 710 \\pmod{m}\n",
        "\\end{align*}\n",
        "\n",
        "A partir de la expresión equivalente resultante, se determina que $m$ es todos auquellos enteros divisores de $710$. \n",
        "\\begin{align*}\n",
        "m \\in \\{x : 710\\mid x, \\:\\: x \\in \\mathbb{Z^+} \\}\n",
        "\\end{align*}\n",
        "\n",
        "Es posible desarrollar un codigo sencillo para hallar dicho conjunto."
      ],
      "metadata": {
        "id": "p6NStkazRkbZ"
      }
    },
    {
      "cell_type": "code",
      "source": [
        "def divisores(n):\n",
        "  #Encuentra todos los divisores del número entero n.\n",
        "  divisores = []\n",
        "  for i in range(1, int(n**0.5) + 1 ): # De la raiz de n se obtiene la maxima tupla de divisores posible\n",
        "    if n % i == 0:\n",
        "      divisores.extend([i, int(n/i)]) # Se añade la tupla (i,j), con j = n/i, donde i*j = n.\n",
        "  return sorted(divisores)\n",
        "\n",
        "n = 710\n",
        "print( f'Divisores para {n}:\\n{divisores(n)}' )"
      ],
      "metadata": {
        "colab": {
          "base_uri": "https://localhost:8080/"
        },
        "id": "aIB9HNbmUTNl",
        "outputId": "e8a3cc30-2e54-496a-8142-9efb59477494"
      },
      "execution_count": null,
      "outputs": [
        {
          "output_type": "stream",
          "name": "stdout",
          "text": [
            "Divisores para 710:\n",
            "[1, 2, 5, 10, 71, 142, 355, 710]\n"
          ]
        }
      ]
    },
    {
      "cell_type": "markdown",
      "source": [
        "Así pues\n",
        "\\begin{align*}\n",
        "m \\in \\{1, 2, 5, 10, 71, 142, 355, 710 \\}\n",
        "\\end{align*}"
      ],
      "metadata": {
        "id": "v8hSwRy7eFNm"
      }
    },
    {
      "cell_type": "markdown",
      "source": [
        "#### 13. Muestre que la diferencia de dos cubos consecutivos nunca es divisible por 5."
      ],
      "metadata": {
        "id": "RZpLhWd7eZlu"
      }
    },
    {
      "cell_type": "markdown",
      "source": [
        "Sea $n \\in \\mathbb{Z}$ cualquiera, se tiene que\n",
        "\\begin{align*}\n",
        "& (n+1)^3 - n^3 \\equiv  \\: \\ell \\\\\n",
        "& ℓ= n^3 + 3n^2 + 3n + 1 - n^3\\\\\n",
        "&\\ell = 3n(n+1) + 1\n",
        "\\end{align*}\n",
        "\n",
        "Sabemos que cualquier número entero se puede expresar como una de las formas siguientes: \n",
        "$5k \\:\\:\\:$, \n",
        "$5k+1\\:\\:\\:$, \n",
        "$5k+2\\:\\:\\:$, \n",
        "$5k+3\\:\\:\\:$, \n",
        "$5k+4\\:\\:\\:$.\n",
        "\n",
        "\n",
        "\n",
        "1.   $n = 5k$\n",
        "      \\begin{align*}\n",
        "      & \\ell = (3)(5k)(5k +1) +1\\\\\n",
        "      & \\ell - 1 = 5 \\overline{k} \\\\\n",
        "      & ⟹ \\ell ≡ 1 \\pmod{5} \\text{ , por definicion de congruencia}\n",
        "      \\end{align*}\n",
        "\n",
        "\n",
        "Analogamente,    \n",
        "\n",
        "2.   $n = 5k +1$\n",
        "      \\begin{align*}\n",
        "      & \\ell = 3(5k +1)(5k +2) +1\\\\\n",
        "      & \\ell = 5(3)(5k^2 + 2k + k) + 6 + 1\\\\\n",
        "      & \\ell - 7 = 5 \\overline{k}\\\\\n",
        "      & ⟹ \\ell ≡ 7 ≡ 2 \\pmod{5}\n",
        "      \\end{align*}\n",
        "\n",
        "3.   $n = 5k +2$\n",
        "      \\begin{align*}\n",
        "      & \\ell = 3(5k +2)(5k +3) +1\\\\\n",
        "      & \\ell = 5(3)(5k^2 + 3k + 2k) + 18 + 1\\\\\n",
        "      & \\ell - 19 = 5 \\overline{k}\\\\\n",
        "      & ⟹ \\ell ≡ 19 ≡ 4 \\pmod{5}\n",
        "      \\end{align*}\n",
        "\n",
        "4.   $n = 5k +3$\n",
        "      \\begin{align*}\n",
        "      & \\ell = 3(5k +3)(5k +4) +1\\\\\n",
        "      & \\ell = 5(3)(5k^2 + 4k + 3k) + 36 + 1\\\\\n",
        "      & \\ell - 37 = 5 \\overline{k}\\\\\n",
        "      & ⟹ \\ell ≡ 37 ≡ 2 \\pmod{5}\n",
        "      \\end{align*}\n",
        "\n",
        "5.   $n = 5k +4$\n",
        "      \\begin{align*}\n",
        "      & \\ell = 3(5k +4)(5k +5) +1\\\\\n",
        "      & \\ell = 5(3)(5k +4)(k +1) +1\\\\\n",
        "      & \\ell = 5(3)(5k^2 + 5k + 4k) + 60 + 1\\\\\n",
        "      & \\ell - 61 = 5 \\overline{k}\\\\\n",
        "      & ⟹ \\ell ≡ 61 ≡ 1 \\pmod{5}\n",
        "      \\end{align*}\n",
        "\n",
        "De modo que no existen $n, (n+1) \\in \\mathbb{Z}$, tales que la diferencia de sus cubos tenga división exacta entre $5$.\n",
        "\n",
        "$\\blacksquare$\n",
        "\n",
        "      \n",
        "\n"
      ],
      "metadata": {
        "id": "7Ee_rcRzehbB"
      }
    },
    {
      "cell_type": "markdown",
      "source": [
        "#### 14. Encuentre un entero positivo $n$ tal que $3^2|n$, $4^2|n+1$, $5^2|n+2$"
      ],
      "metadata": {
        "id": "3PJ_TCF3Yfdf"
      }
    },
    {
      "cell_type": "markdown",
      "source": [
        "Es posible determinar el sistema de congruencias siguiente.\n",
        "\n",
        "\\begin{align*}\n",
        "&n≡0\\pmod{9} \\\\\n",
        "&n+1≡0\\pmod{16} \\\\\n",
        "&n+2≡0\\pmod{25} \\\\\n",
        "\\end{align*}\n",
        "Que es equivalente\n",
        "\\begin{align*}\n",
        "&n+2≡2\\pmod{9} \\\\\n",
        "&n+2≡1\\pmod{16} \\\\\n",
        "&n+2≡0\\pmod{25} \\\\\n",
        "\\end{align*}\n",
        "\n",
        "Aplicando el teorema del resto chino:\n",
        "\n",
        "\\begin{align*}\n",
        "&m = 3^24^25^2 = 3600\\\\\n",
        "&M_1 = 4^25^2 = 400 \\\\\n",
        "&M_2 = 3^25^2 = 225 \\\\\n",
        "&M_3 = 3^24^2 = 144\\\\\n",
        "\\end{align*}\n",
        "\n",
        "Para determinar los inversos podemos hacer uso del algoritmo de Bézout."
      ],
      "metadata": {
        "id": "3SlURibLuLxt"
      }
    },
    {
      "cell_type": "code",
      "source": [
        "def main(a, b):\n",
        "  v,w = bezout(a,b)\n",
        "  d = a*v + b*w\n",
        "\n",
        "  print( f'Para {a}v ≡ 1 mod({b}):\\nv = {v}  \\n' )\n",
        "  \n",
        "m = [9, 16, 25]; M = [400, 225, 144]\n",
        "for i, j in zip(M , m): main(i, j)"
      ],
      "metadata": {
        "colab": {
          "base_uri": "https://localhost:8080/"
        },
        "id": "VL3Z_8-PLJ8e",
        "outputId": "bc1d1883-c014-48db-94c3-7b6e0b9e204d"
      },
      "execution_count": null,
      "outputs": [
        {
          "output_type": "stream",
          "name": "stdout",
          "text": [
            "Para 400v ≡ 1 mod(9):\n",
            "v = -2  \n",
            "\n",
            "Para 225v ≡ 1 mod(16):\n",
            "v = 1  \n",
            "\n",
            "Para 144v ≡ 1 mod(25):\n",
            "v = 4  \n",
            "\n"
          ]
        }
      ]
    },
    {
      "cell_type": "markdown",
      "source": [
        "De modo que.\n",
        "\\begin{align*}\n",
        "&v_1 = -2 \\\\\n",
        "&v_2 = 1 \\\\\n",
        "\\end{align*}\n",
        "\n",
        "Finalmente\n",
        "\n",
        "\\begin{align*}\n",
        "n+2 &= 2(4^25^2)(-2) + 1(3^25^2)(1) + 0\\\\\n",
        "&= -1600 + 225\\\\\n",
        "&= -1375 \\\\\n",
        "&⟶ \\quad -1375 \\pmod{m}\\\\\n",
        "& \\quad \\quad \\quad (2225 - 3600) \\pmod{3600}\\\\\n",
        "& \\quad \\quad \\quad (2225 - 0) \\pmod{3600}\\\\\n",
        "& \\quad \\quad \\quad 2225 \\\\\n",
        "&\\\\\n",
        "n &= 2225 - 2\\\\\n",
        "n &=\\mathbf{2223} \n",
        "\\end{align*}"
      ],
      "metadata": {
        "id": "N9aNZWEoLKLA"
      }
    },
    {
      "cell_type": "code",
      "source": [
        "n = 2223\n",
        "print( n % 9 )\n",
        "print( (n+1) % 16 )\n",
        "print( (n+2) % 25 )"
      ],
      "metadata": {
        "colab": {
          "base_uri": "https://localhost:8080/"
        },
        "id": "ZeVsApa2Hm9k",
        "outputId": "003220db-f9b7-4949-e8af-ffd72f9ba3b0"
      },
      "execution_count": null,
      "outputs": [
        {
          "output_type": "stream",
          "name": "stdout",
          "text": [
            "0\n",
            "0\n",
            "0\n"
          ]
        }
      ]
    },
    {
      "cell_type": "markdown",
      "source": [
        "#### 15. ¿Cuál es el último digito de $7^{355}$?"
      ],
      "metadata": {
        "id": "BgOte_jD1RCa"
      }
    },
    {
      "cell_type": "markdown",
      "source": [
        "Para hallar el ultimo digito de un entero $n$, basta con determinar $ n \\pmod{10}$. Sea $n = 7^{355}$.\n",
        "\n",
        "\\begin{align*}\n",
        "&7^{354 +1} \\quad\\% 10 \\quad ,354 = 2n \\\\\n",
        "&(7^2)^n \\cdot 7 \\quad\\% 10\\\\\n",
        "\\end{align*}\n",
        "\n",
        "Con $n = 177$ impar.\n",
        "\n",
        "\\begin{align*}\n",
        "&9 \\cdot 7 \\quad\\% 10\\\\\n",
        "&63 \\quad\\% 10\\\\\n",
        "&3\n",
        "\\end{align*}\n",
        "\n",
        "De modo que el ultimo digito de $7^{355}$ es $3$."
      ],
      "metadata": {
        "id": "-ieNbaWY1VUR"
      }
    },
    {
      "cell_type": "code",
      "source": [
        "print( (7**355) % 10)"
      ],
      "metadata": {
        "colab": {
          "base_uri": "https://localhost:8080/"
        },
        "id": "QRE0cuzc2w96",
        "outputId": "827ce72d-b6ae-4a54-9025-d56f11ec3cdb"
      },
      "execution_count": 4,
      "outputs": [
        {
          "output_type": "stream",
          "name": "stdout",
          "text": [
            "3\n"
          ]
        }
      ]
    },
    {
      "cell_type": "markdown",
      "source": [
        "#### 16. Muestre que $3k+4$ y $4k+5$ no tienen un factor común más grande que 1"
      ],
      "metadata": {
        "id": "gkdXmY0V86No"
      }
    },
    {
      "cell_type": "markdown",
      "source": [
        "Supongase existe $d \\in \\mathbb{Z}$ tales que  $d > 1  $ y $\\quad d \\mid 3k+4 $ tanto como $d \\mid 4k+5 $. Entonces la división de estos dos factores en $d$ tiene el mismo resto:\n",
        "\n",
        "\\begin{align*}\n",
        "& 4k+5 \\equiv 3k+4 \\pmod d \\\\\n",
        "& 4k + 5 - 3k - 4 = dn\\\\\n",
        "& k + 1 = dn\\\\\n",
        "& k  = dn -1\\\\\n",
        "\\end{align*}\n",
        "\n",
        "Ahora, como $ d \\mid 3k+4 $ por hipotesis, $ 3k+4 = dm $, remplazando:\n",
        "\n",
        "\\begin{align*}\n",
        "& 3(dn -1) +4 = dm \\\\\n",
        "& 4 - 3 = d(m - 3n)\\\\\n",
        "& 1 = dℓ\\\\\n",
        "\\end{align*}\n",
        "\n",
        "Como $ℓ \\in \\mathbb{Z}$, $ℓ= 1/d$, donde $d$ debe ser un divisor de 1, es decir, $d=1$. No obstante $d > 1$ por hipotesis, lo que es un absurdo.\n",
        "\n",
        "Por lo tanto, por reducción al absurdo, $3k+4$ y $4k+5$ no tienen un factor común más grande que 1.\n",
        "\n",
        "$\\blacksquare$\n"
      ],
      "metadata": {
        "id": "BhXNwtWx8_vH"
      }
    }
  ]
}