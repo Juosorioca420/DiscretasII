{
  "nbformat": 4,
  "nbformat_minor": 0,
  "metadata": {
    "colab": {
      "provenance": [],
      "authorship_tag": "ABX9TyM3V0ydzLFF+nm9adE5f4HV",
      "include_colab_link": true
    },
    "kernelspec": {
      "name": "python3",
      "display_name": "Python 3"
    },
    "language_info": {
      "name": "python"
    }
  },
  "cells": [
    {
      "cell_type": "markdown",
      "metadata": {
        "id": "view-in-github",
        "colab_type": "text"
      },
      "source": [
        "<a href=\"https://colab.research.google.com/github/Juosorioca420/DiscretasII/blob/main/Tarea7/Lagrange_4cuadrados.ipynb\" target=\"_parent\"><img src=\"https://colab.research.google.com/assets/colab-badge.svg\" alt=\"Open In Colab\"/></a>"
      ]
    },
    {
      "cell_type": "markdown",
      "source": [
        "### El teorema de los cuatro cuadrados de Lagrange\n",
        "\n",
        "---\n",
        "\n",
        "Se desea descomponer un entero $n$ como una suma de cuadrados. El teorema de los cuatro cuadrados de Lagrange nos indica que esta tarea deberia ser posible con no más de 4 enteros distintos para un $n$ cualquiera, es decir, $n = a^2 + b^2 + c^2 + d^2$.\n",
        "\n",
        "Intuitivamente, es posible tomar $n$, hallar la parte entera de su raiz y restar el cuadrado de dicha parte entera a $n$, repitiendo este proceso hasta que $n$ sea 0. Por ejemplo $n = 18$:\n",
        "\\begin{align*}\n",
        "  &\\sqrt{18} = \\boxed{4}.243 ⟶ 18 - 4^2 = 2 \\\\\n",
        "  &\\sqrt{2} = \\boxed{1}.414 ⟶ 2 - 1^2 = 1 \\\\\n",
        "  &\\sqrt{1} = \\boxed{1}.000 ⟶ 1 - 1^2 = 0\n",
        "\\end{align*}\n",
        "Así pues, $18 = 4^2 + 1^2 + 1^2$.\n",
        "\n",
        "No obstante este metodo no entrega la descomposicion optima; bajo el mismo ejemplo, se puede decir que $18 = 3^2 + 3^2$.\n",
        "\n",
        "Entonces, para encontrar la descomposicion más pequeña, es posible realizar el anterior proceso, tomando como base inicial no necesariamente $\\sqrt{n}$, si no todo entero hasta $\\sqrt{n}$ y tomar la descomposicion más corta resultante.\n",
        "\n",
        "Lo anterior, pues el cuadrado de cada entero posterior a la parte entera de $\\sqrt{n}$ es mayor a $n$. Se ignora 1 como base inicial pues el resultado seria sumar 1 n-veces hasta llegar a $n$. \n",
        "\n",
        "\n"
      ],
      "metadata": {
        "id": "77zMPngtDqUA"
      }
    },
    {
      "cell_type": "code",
      "source": [
        "import time as t"
      ],
      "metadata": {
        "id": "VXskowqIxX6v"
      },
      "execution_count": 1,
      "outputs": []
    },
    {
      "cell_type": "code",
      "execution_count": 62,
      "metadata": {
        "id": "_uJlARBcC3ek"
      },
      "outputs": [],
      "source": [
        "def cuadros(n):\n",
        "  if n == 0: return [0]\n",
        "\n",
        "  cuadros = [] # Matriz de todas las posibles descomposiciones.\n",
        "\n",
        "\n",
        "  for b_inicial in range( 2, int( n**0.5 ) + 1): # Se considera solo hasta sqrt(n), pues el cuadrado de cada entero posterior es mayor a n.\n",
        "    i = 0 #Variable contadora\n",
        "    num = n # Numero inicial al que se le ira restando hasta llegar a 0\n",
        "    cuadro = [b_inicial] # Descomposicion particular en funcion de cada base_inicial.\n",
        "\n",
        "    num -= b_inicial**2\n",
        "    while (num != 0) and (i < 4): #Aplicar condición de Lagrange\n",
        "      c = int( num**0.5 ); cuadro.append(c) # Cada cuadrado que compone la descomposicion\n",
        "      num -= c**2\n",
        "      i += 1\n",
        "\n",
        "    if ( num <= 0 ) and ( cuadro not in cuadros ): # Solo considerar descomposiciones completas\n",
        "      cuadros.append(cuadro)\n",
        "\n",
        "  #print(cuadros)\n",
        "  cuadros.sort( key = lambda x: len(x) ) # Tomar la descomposicion mas corta\n",
        "  resultado = sorted( cuadros[0], reverse = True )\n",
        "  return resultado"
      ]
    },
    {
      "cell_type": "code",
      "source": [
        "def main(n = 27185797):\n",
        "    start = t.time()\n",
        "    lst = cuadros(n)\n",
        "    stop = t.time()\n",
        "\n",
        "    string = '\\u00b2 + '.join( map(str, lst) )\n",
        "    return print( f'Para n = {n}.\\nn = {string}\\u00b2 \\n\\nTiempo = {round(stop - start, 4)}s' )\n",
        "\n",
        "main()"
      ],
      "metadata": {
        "colab": {
          "base_uri": "https://localhost:8080/"
        },
        "id": "qizhvp6xx2Lf",
        "outputId": "5c547ac5-11a0-431f-fb91-3bcd1eb90cf4"
      },
      "execution_count": 66,
      "outputs": [
        {
          "output_type": "stream",
          "name": "stdout",
          "text": [
            "Para n = 27185797.\n",
            "n = 4746² + 2159² \n",
            "\n",
            "Tiempo = 0.0545s\n"
          ]
        }
      ]
    },
    {
      "cell_type": "markdown",
      "source": [
        "---\n",
        "\n",
        "---"
      ],
      "metadata": {
        "id": "ej1-NACxEH8H"
      }
    },
    {
      "cell_type": "markdown",
      "source": [
        "![image.png](data:image/png;base64,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)"
      ],
      "metadata": {
        "id": "2j8uQQS0uikw"
      }
    },
    {
      "cell_type": "code",
      "source": [
        "#Algunos ejemplos conocidos de prueba\n",
        "\n",
        "start = t.time()\n",
        "a = cuadros(5)\n",
        "b = cuadros(18)\n",
        "c = cuadros(348)\n",
        "d = cuadros(8764)\n",
        "stop = t.time()\n",
        "\n",
        "print(a,b,c,d, sep = '\\n' )\n",
        "print(f'Tiempo = {stop - start}s')"
      ],
      "metadata": {
        "id": "jDksLeSbFM2A",
        "colab": {
          "base_uri": "https://localhost:8080/"
        },
        "outputId": "9f2be998-ac48-4dd4-bfb7-9ef844accea6"
      },
      "execution_count": 64,
      "outputs": [
        {
          "output_type": "stream",
          "name": "stdout",
          "text": [
            "[2, 1]\n",
            "[3, 3]\n",
            "[18, 4, 2, 2]\n",
            "[93, 9, 5, 3]\n",
            "Tiempo = 0.0009801387786865234s\n"
          ]
        }
      ]
    }
  ]
}